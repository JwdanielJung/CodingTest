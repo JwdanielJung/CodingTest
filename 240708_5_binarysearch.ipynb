{
 "cells": [
  {
   "cell_type": "markdown",
   "metadata": {},
   "source": [
    "### 7/8 이진탐색\n"
   ]
  },
  {
   "cell_type": "code",
   "execution_count": 7,
   "metadata": {},
   "outputs": [
    {
     "name": "stdout",
     "output_type": "stream",
     "text": [
      "원소 존재 x\n"
     ]
    }
   ],
   "source": [
    "# 내 답안\n",
    "# array는 이미 정렬되어 있다 가정\n",
    "def binaryserach(array, target, start, end):\n",
    "    mid = (start + end) // 2\n",
    "    if target < array[mid]:\n",
    "        return binaryserach(array, target, start, mid)\n",
    "    elif target > array[mid]:\n",
    "        return binaryserach(array, target, mid, end)\n",
    "    else:\n",
    "        return mid\n",
    "    \n",
    "n = 10\n",
    "target = 7\n",
    "array = [1,3,5,7,9,11,13,15,17,19]\n",
    "\n",
    "binaryserach(array, target, 0, n-1)\n",
    "\n",
    "# 모범답안과 차이: 예외처리 없음! & mid에 없으면 mid+1 or -1로 옮겨서 넣어줘야함!\n",
    "# 중간점 볼 필요 없기 때문!\n",
    "\n",
    "def binaryserach(array, target, start, end):\n",
    "    if start > end: # 원소 존재x\n",
    "        return None\n",
    "    mid = (start + end) // 2\n",
    "    if target < array[mid]:\n",
    "        return binaryserach(array, target, start, mid-1)\n",
    "    elif target > array[mid]:\n",
    "        return binaryserach(array, target, mid+1, end)\n",
    "    else:\n",
    "        return mid\n",
    "\n",
    "n = 10\n",
    "target = 8\n",
    "array = [1,3,5,7,9,11,13,15,17,19]\n",
    "\n",
    "result = binaryserach(array, target, 0, n-1)\n",
    "if result == None:\n",
    "    print('원소 존재 x')\n",
    "else:\n",
    "    print(result)\n"
   ]
  },
  {
   "cell_type": "code",
   "execution_count": 9,
   "metadata": {},
   "outputs": [
    {
     "name": "stdout",
     "output_type": "stream",
     "text": [
      "3\n"
     ]
    }
   ],
   "source": [
    "# 재귀가 아닌 반복문으로 구현\n",
    "\n",
    "def binarysearch(array, target, start, end):\n",
    "    while start <= end:\n",
    "        mid = (start + end) // 2\n",
    "        if array[mid] == target:\n",
    "            return mid\n",
    "        elif array[mid] > target:\n",
    "            end = mid - 1\n",
    "        else:\n",
    "            start = mid + 1\n",
    "    return None\n",
    "\n",
    "n = 10\n",
    "target = 7\n",
    "array = [1,3,5,7,9,11,13,15,17,19]\n",
    "\n",
    "result = binaryserach(array, target, 0, n-1)\n",
    "if result == None:\n",
    "    print('원소 존재 x')\n",
    "else:\n",
    "    print(result)"
   ]
  },
  {
   "cell_type": "code",
   "execution_count": 9,
   "metadata": {},
   "outputs": [
    {
     "name": "stdout",
     "output_type": "stream",
     "text": [
      "15\n"
     ]
    }
   ],
   "source": [
    "# 떡볶이 떡 만들기 문제\n",
    "# 4 6\n",
    "# 19 15 10 17\n",
    "\n",
    "# 내 답안\n",
    "n,m = list(map(int, input().split()))\n",
    "heights = list(map(int, input().split()))\n",
    "cut = max(heights) + 1\n",
    "customer = 0\n",
    "while customer != m:\n",
    "    cut -=1\n",
    "    customer = sum([h - cut if h >= cut else 0 for h in heights])\n",
    "    \n",
    "cut\n",
    "\n",
    "# 모범답안 -> 범위가 넓으므로 이진탐색으로 생각! (아이디어만 받고 구현)\n",
    "# 시작점:0, 끝점: 19 -> 중간점 9로 설정하여 탐색 시작\n",
    "# 높이가 낮을수록 얻을 수 있는 떡 많음! 남으면 높이 낮추기.\n",
    "\n",
    "def binary_search(array, target, start, end):\n",
    "    mid = (start + end) // 2\n",
    "    result = sum([h - mid if h >= mid else 0 for h in array])\n",
    "    if result == target:\n",
    "        return mid\n",
    "    elif result < target:\n",
    "        return binary_search(array, target, start, mid - 1)\n",
    "    else:\n",
    "        return binary_search(array, target, mid + 1, end)\n",
    "\n",
    "binary_search(heights, m, 0, max(heights))\n",
    "\n",
    "# 모범답안\n",
    "start = 0\n",
    "end = max(heights)\n",
    "\n",
    "result = 0\n",
    "while (start <= end):\n",
    "    total = 0\n",
    "    mid = (start + end) // 2\n",
    "    for x in heights:\n",
    "        if x > mid:\n",
    "            total += x - mid\n",
    "    if total < m:\n",
    "        end = mid - 1\n",
    "    else:\n",
    "        # 떡 양이 충분한 경우, 높이를 높혀가면서 탐색\n",
    "        result = mid\n",
    "        start = mid + 1\n",
    "\n",
    "print(result)\n"
   ]
  },
  {
   "cell_type": "code",
   "execution_count": 11,
   "metadata": {},
   "outputs": [
    {
     "data": {
      "text/plain": [
       "4"
      ]
     },
     "execution_count": 11,
     "metadata": {},
     "output_type": "execute_result"
    }
   ],
   "source": [
    "# 특정 수의 갯수 구하기\n",
    "# 오름차순으로 정렬된 array -> 이진탐색 사용 가능!\n",
    "from bisect import bisect_left, bisect_right\n",
    "\n",
    "array = [1,1,2,2,2,2,3]\n",
    "target = 2\n",
    "bisect_right(array, target) - bisect_left(array, target)"
   ]
  },
  {
   "cell_type": "code",
   "execution_count": null,
   "metadata": {},
   "outputs": [],
   "source": []
  }
 ],
 "metadata": {
  "kernelspec": {
   "display_name": "jw",
   "language": "python",
   "name": "python3"
  },
  "language_info": {
   "codemirror_mode": {
    "name": "ipython",
    "version": 3
   },
   "file_extension": ".py",
   "mimetype": "text/x-python",
   "name": "python",
   "nbconvert_exporter": "python",
   "pygments_lexer": "ipython3",
   "version": "3.10.13"
  }
 },
 "nbformat": 4,
 "nbformat_minor": 2
}
