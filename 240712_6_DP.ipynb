{
 "cells": [
  {
   "cell_type": "markdown",
   "metadata": {},
   "source": [
    "### 240712 Dynamic Programming (DP)"
   ]
  },
  {
   "cell_type": "code",
   "execution_count": 2,
   "metadata": {},
   "outputs": [
    {
     "name": "stdout",
     "output_type": "stream",
     "text": [
      "218922995834555169026\n"
     ]
    }
   ],
   "source": [
    "# DP 기반 피보나치 구현\n",
    "\n",
    "# 1. top-down: Memoization\n",
    "\n",
    "# 메모이제이션 위한 list 초기화\n",
    "d = [0] * 100 # 99번째 값 찾고 싶기 때문\n",
    "\n",
    "\n",
    "def fibonacci(n):\n",
    "    if n==1 or n==2:\n",
    "        return 1\n",
    "    # 이미 계산된 적 있다면 그대로 반환\n",
    "    if d[n] != 0:\n",
    "        return d[n]\n",
    "    d[n] = fibonacci(n-1) + fibonacci(n-2)\n",
    "    return d[n]\n",
    "\n",
    "fibonacci(99)\n",
    "\n",
    "# 2. bottom-up\n",
    "\n",
    "# 앞서 계산 결과 저장 위한 DP 테이블 초기화\n",
    "d = [0] * 100 \n",
    "\n",
    "d[1] = 1\n",
    "d[2] = 1\n",
    "n = 99\n",
    "\n",
    "for i in range(3, n+1):\n",
    "    d[i] = d[i - 1] + d[i - 2]\n",
    "print(d[n])\n"
   ]
  },
  {
   "cell_type": "code",
   "execution_count": 11,
   "metadata": {},
   "outputs": [
    {
     "name": "stdout",
     "output_type": "stream",
     "text": [
      "0 2\n",
      "1 3\n",
      "2 0\n",
      "2 3\n",
      "3 0\n",
      "3 2\n"
     ]
    },
    {
     "data": {
      "text/plain": [
       "[1, 2, 3, 8, 2, 2, 7, 6, 7, 7]"
      ]
     },
     "execution_count": 11,
     "metadata": {},
     "output_type": "execute_result"
    }
   ],
   "source": [
    "# 개미 전사 문제\n",
    "\n",
    "# 내 답변\n",
    "# 인접한 것 선택x, 식량 먹을 수 있는 최댓값 찾아 출력.\n",
    "# 4\n",
    "# 1 3 1 5\n",
    "\n",
    "# foods를 이미 계산된 값이라고 생각, index는 무조건 퐁당퐁당 먹어야함\n",
    "\n",
    "# def ant_warrior(n, foods):\n",
    "#     res1, res2 = 0,0\n",
    "#     for i in range(n):\n",
    "#         if i % 2 ==0:\n",
    "#             res1 += foods[i]\n",
    "#         else:\n",
    "#             res2 += foods[i]\n",
    "#     return max(res1, res2)\n",
    "\n",
    "# n = int(input())\n",
    "# foods = list(map(int,input().split()))\n",
    "# ant_warrior(n, foods)\n",
    "\n",
    "# -> 퐁당퐁당 먹을 필요없네! 1번째 4번째를 고를수도 있기 때문\n",
    "\n",
    "n = int(input())\n",
    "foods = list(map(int,input().split()))\n",
    "\n",
    "results = []\n",
    "for i in range(n): # current\n",
    "    result = foods[i]\n",
    "    cur = i\n",
    "    for j in range(n): # 더하는 후보\n",
    "        if i!=j:\n",
    "            if j == cur+1 or j == cur-1 or j==cur:\n",
    "                continue\n",
    "            else:\n",
    "                cur = j\n",
    "                print(i,j)\n",
    "                result += foods[cur]\n",
    "        results.append(result)\n",
    "results\n",
    "\n",
    "\n",
    "\n",
    "\n",
    "\n",
    "\n",
    "\n",
    "\n",
    "# 1번째 선택 -> 2번째 패스, 3번째랑 4번째 중 큰 것 선택\n",
    "# 2번째 선택 -> 4번째 선택\n",
    "# 모든 경우의 수 탐색하는 방법? \n",
    "# 0개 선택, 1개 선택: 1,3,1,5 , 2개선택: 1,1 / 1,5 / 3,5\n",
    "# 7개 1 2 3 4 5 6 7 -> 나누기2 +1 만큼 최대 선택 가능"
   ]
  },
  {
   "cell_type": "code",
   "execution_count": null,
   "metadata": {},
   "outputs": [],
   "source": []
  }
 ],
 "metadata": {
  "kernelspec": {
   "display_name": "jw",
   "language": "python",
   "name": "python3"
  },
  "language_info": {
   "codemirror_mode": {
    "name": "ipython",
    "version": 3
   },
   "file_extension": ".py",
   "mimetype": "text/x-python",
   "name": "python",
   "nbconvert_exporter": "python",
   "pygments_lexer": "ipython3",
   "version": "3.10.13"
  }
 },
 "nbformat": 4,
 "nbformat_minor": 2
}
