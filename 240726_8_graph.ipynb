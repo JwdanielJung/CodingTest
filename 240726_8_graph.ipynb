{
 "cells": [
  {
   "cell_type": "code",
   "execution_count": 1,
   "metadata": {},
   "outputs": [],
   "source": [
    "# 서로소 집합 기본 구현과정\n",
    "\n",
    "def find_parent(parent, x):\n",
    "    # 본인과 부모 같을 때까지 재귀적으로 호출\n",
    "    if parent[x] != x:\n",
    "        return find_parent(parent, parent[x])\n",
    "    return x\n",
    "\n",
    "# 두 원소가 속한 원소 합치기\n",
    "def union_parent(parent, a, b):\n",
    "    a = find_parent(parent, a)\n",
    "    b = find_parent(parent, b)\n",
    "    if a<b:\n",
    "        parent[b] = a\n",
    "    else:\n",
    "        parent[a] = b"
   ]
  },
  {
   "cell_type": "code",
   "execution_count": null,
   "metadata": {},
   "outputs": [],
   "source": [
    "v, e = map(int, input().split()) # node 수 & edge 수 입력 받음\n",
    "parent = [0] * (v+1) # 부모 테이블\n",
    "\n",
    "# 부모 테이블 자기 자신으로 초기화\n",
    "for i in range(1, v+1):\n",
    "    parent[i] = i\n",
    "\n",
    "# Union 연산 수행\n",
    "for i in range(e):\n",
    "    a,b = map(int, input().split())\n",
    "    union_parent(parent, a, b)\n",
    "\n",
    "print('각 원소가 속한 집합', end=' ')\n",
    "for i in range(1, v+1):\n",
    "    print(find_parent(parent, i), end=' ') # root를 찾기 위한 재귀적으로 구현\n",
    "\n",
    "print()\n",
    "\n",
    "# 부모테이블 != root 일 수 있음!\n",
    "\n",
    "print('부모 테이블', end=' ')\n",
    "for i in range(1, v+1):\n",
    "    print(parent[i], end =' ')"
   ]
  },
  {
   "cell_type": "code",
   "execution_count": null,
   "metadata": {},
   "outputs": [],
   "source": [
    "# 경로 압축으로 최적화\n",
    "\n",
    "def find_parent(parent, x):\n",
    "    if parent[x] != x:\n",
    "        parent[x] = find_parent(parent, parent[x])\n",
    "    return parent[x]"
   ]
  },
  {
   "cell_type": "code",
   "execution_count": null,
   "metadata": {},
   "outputs": [],
   "source": [
    "# 서로소 집합 활용한 사이클 판별 알고리즘\n",
    "\n",
    "def find_parent(parent, x):\n",
    "    if parent[x] != x:\n",
    "        parent[x] = find_parent(parent, parent[x])\n",
    "    return parent[x]\n",
    "\n",
    "def union_parent(parent, a,b):\n",
    "    a = find_parent(parent,a)\n",
    "    b = find_parent(parent,b)\n",
    "    if a < b:\n",
    "        parent[b] = a\n",
    "    else:\n",
    "        parent[a] = b\n",
    "\n",
    "v, e = map(int, input().split()) # node 수 & edge 수 입력 받음\n",
    "parent = [0] * (v+1) # 부모 테이블\n",
    "\n",
    "# 부모 테이블 자기 자신으로 초기화\n",
    "for i in range(1, v+1):\n",
    "    parent[i] = i\n",
    "\n",
    "\n",
    "cycle = False # cycle 발생 여부 판별\n",
    "\n",
    "for i in range(e):\n",
    "    a,b = map(int, input().split())\n",
    "    if find_parent(parent, a) != find_parent(parent, b):\n",
    "        cycle=True\n",
    "        break\n",
    "    else:\n",
    "        union_parent(parent,a,b)\n",
    "\n",
    "if cycle:\n",
    "    print(True)\n",
    "else:\n",
    "    print(False)"
   ]
  },
  {
   "cell_type": "code",
   "execution_count": 6,
   "metadata": {},
   "outputs": [
    {
     "ename": "ValueError",
     "evalue": "not enough values to unpack (expected 2, got 0)",
     "output_type": "error",
     "traceback": [
      "\u001b[0;31m---------------------------------------------------------------------------\u001b[0m",
      "\u001b[0;31mValueError\u001b[0m                                Traceback (most recent call last)",
      "Cell \u001b[0;32mIn[6], line 4\u001b[0m\n\u001b[1;32m      1\u001b[0m \u001b[38;5;66;03m# 크루스칼 알고리즘\u001b[39;00m\n\u001b[1;32m      2\u001b[0m \n\u001b[1;32m      3\u001b[0m \u001b[38;5;66;03m# 내 코드\u001b[39;00m\n\u001b[0;32m----> 4\u001b[0m v, e \u001b[38;5;241m=\u001b[39m \u001b[38;5;28mmap\u001b[39m(\u001b[38;5;28mint\u001b[39m, \u001b[38;5;28minput\u001b[39m()\u001b[38;5;241m.\u001b[39msplit()) \u001b[38;5;66;03m# node 수 & edge 수 입력 받음\u001b[39;00m\n\u001b[1;32m      6\u001b[0m edges \u001b[38;5;241m=\u001b[39m []\n\u001b[1;32m      8\u001b[0m \u001b[38;5;28;01mfor\u001b[39;00m i \u001b[38;5;129;01min\u001b[39;00m \u001b[38;5;28mrange\u001b[39m(e):\n",
      "\u001b[0;31mValueError\u001b[0m: not enough values to unpack (expected 2, got 0)"
     ]
    }
   ],
   "source": [
    "# 크루스칼 알고리즘\n",
    "\n",
    "v, e = map(int, input().split()) # node 수 & edge 수 입력 받음\n",
    "\n",
    "edges = []\n",
    "result = 0\n",
    "\n",
    "for i in range(e):\n",
    "    a,b,c = map(int, input().split()) # a,b 연결비용c\n",
    "    edges.append([a,b,c]) \n",
    "edges.sort(key = lambda x: x[-1]) # or 비용을 튜플 맨 앞으로 하면 그냥 edges.sort()만 해도 됨!\n",
    "for edge in edges:\n",
    "    a,b, cost = edge\n",
    "    # cycle 발생 안시킬 때만 MST에 추가!\n",
    "    if find_parent(parent, a) != find_parent(parent,b):\n",
    "        union_parent(parent, a,b)\n",
    "        result += cost"
   ]
  },
  {
   "cell_type": "code",
   "execution_count": 13,
   "metadata": {},
   "outputs": [
    {
     "name": "stdout",
     "output_type": "stream",
     "text": [
      "[7, 7, 7, 7, 7, 7, 7, 7]\n",
      "error\n"
     ]
    }
   ],
   "source": [
    "# 위상 정렬\n",
    "\n",
    "# 내 코드\n",
    "\n",
    "from collections import deque\n",
    "\n",
    "v, e = map(int, input().split()) # node 수 & edge 수 입력 받음\n",
    "\n",
    "edges = []\n",
    "results = []\n",
    "for i in range(e):\n",
    "    a,b = map(int, input().split()) # 방향성 존재\n",
    "    edges.append([a,b])\n",
    "\n",
    "indegree = [0] * (v+1)\n",
    "outdegree = [0] * (v+1)\n",
    "\n",
    "for edge in edges:\n",
    "    indegree[edge[0]]+=1\n",
    "    outdegree[edge[1]]+=1\n",
    "\n",
    "q = deque()\n",
    "\n",
    "for idx, indeg in enumerate(indegree):\n",
    "    if idx == 0:\n",
    "        continue\n",
    "    if indeg == 0:\n",
    "        q.append(idx)\n",
    "\n",
    "while q:\n",
    "    cur = q.popleft()\n",
    "    results.append(cur)\n",
    "    if len(results) > 7:\n",
    "        print(results)\n",
    "        print('error')\n",
    "        break\n",
    "    \n",
    "    edges = [edge for edge in edges if edge[0] != cur]\n",
    "    indegree = [0] * (v+1)\n",
    "    outdegree = [0] * (v+1)\n",
    "    for edge in edges:\n",
    "        indegree[edge[0]]+=1\n",
    "        outdegree[edge[1]]+=1\n",
    "    for idx, indeg in enumerate(indegree):\n",
    "        if idx == 0:\n",
    "            continue\n",
    "        if indeg == 0:\n",
    "            q.append(idx)\n",
    "\n",
    "# 틀려!"
   ]
  },
  {
   "cell_type": "code",
   "execution_count": 15,
   "metadata": {},
   "outputs": [
    {
     "name": "stdout",
     "output_type": "stream",
     "text": [
      "1 2 5 3 6 4 7\n"
     ]
    }
   ],
   "source": [
    "# 모범 답안\n",
    "from collections import deque\n",
    "\n",
    "v,e = map(int, input().split())\n",
    "\n",
    "indegree = [0] * (v+1)\n",
    "\n",
    "graph =[[] for i in range(v+1)]\n",
    "\n",
    "for _ in range(e):\n",
    "    a,b = map(int, input().split())\n",
    "    graph[a].append(b)\n",
    "    indegree[b] +=1\n",
    "\n",
    "def topology_sort():\n",
    "    result = []\n",
    "    q = deque()\n",
    "    for i in range(1, v+1):\n",
    "        if indegree[i] == 0:\n",
    "            q.append(i)\n",
    "    \n",
    "    while q:\n",
    "        now = q.popleft()\n",
    "        result.append(now)\n",
    "        for i in graph[now]:\n",
    "            indegree[i] -= 1\n",
    "            if indegree[i] == 0:\n",
    "                q.append(i)\n",
    "    print(*result)\n",
    "\n",
    "topology_sort()\n"
   ]
  },
  {
   "cell_type": "code",
   "execution_count": null,
   "metadata": {},
   "outputs": [],
   "source": []
  }
 ],
 "metadata": {
  "kernelspec": {
   "display_name": "jw",
   "language": "python",
   "name": "python3"
  },
  "language_info": {
   "codemirror_mode": {
    "name": "ipython",
    "version": 3
   },
   "file_extension": ".py",
   "mimetype": "text/x-python",
   "name": "python",
   "nbconvert_exporter": "python",
   "pygments_lexer": "ipython3",
   "version": "3.10.13"
  }
 },
 "nbformat": 4,
 "nbformat_minor": 2
}
