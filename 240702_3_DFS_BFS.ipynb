{
 "cells": [
  {
   "cell_type": "markdown",
   "metadata": {},
   "source": [
    "### 7/2 DFS (Stack), BFS (Queue) + 재귀함수"
   ]
  },
  {
   "cell_type": "code",
   "execution_count": 1,
   "metadata": {},
   "outputs": [
    {
     "data": {
      "text/plain": [
       "[5, 3]"
      ]
     },
     "execution_count": 1,
     "metadata": {},
     "output_type": "execute_result"
    }
   ],
   "source": [
    "stack = []\n",
    "\n",
    "stack.append(5)\n",
    "stack.append(3)\n",
    "\n",
    "stack"
   ]
  },
  {
   "cell_type": "code",
   "execution_count": 2,
   "metadata": {},
   "outputs": [
    {
     "data": {
      "text/plain": [
       "3"
      ]
     },
     "execution_count": 2,
     "metadata": {},
     "output_type": "execute_result"
    }
   ],
   "source": [
    "stack.pop()"
   ]
  },
  {
   "cell_type": "code",
   "execution_count": 4,
   "metadata": {},
   "outputs": [
    {
     "data": {
      "text/plain": [
       "deque([3, 2, 4, 5])"
      ]
     },
     "execution_count": 4,
     "metadata": {},
     "output_type": "execute_result"
    }
   ],
   "source": [
    "from collections import deque\n",
    "\n",
    "queue = deque()\n",
    "\n",
    "queue.append(3)\n",
    "queue.append(2)\n",
    "queue.append(4)\n",
    "queue.append(5)\n",
    "queue"
   ]
  },
  {
   "cell_type": "code",
   "execution_count": 9,
   "metadata": {},
   "outputs": [
    {
     "data": {
      "text/plain": [
       "5"
      ]
     },
     "execution_count": 9,
     "metadata": {},
     "output_type": "execute_result"
    }
   ],
   "source": [
    "queue.popleft()"
   ]
  },
  {
   "cell_type": "code",
   "execution_count": 5,
   "metadata": {},
   "outputs": [
    {
     "data": {
      "text/plain": [
       "deque([5, 4, 2, 3])"
      ]
     },
     "execution_count": 5,
     "metadata": {},
     "output_type": "execute_result"
    }
   ],
   "source": [
    "queue.reverse()\n",
    "queue"
   ]
  },
  {
   "cell_type": "code",
   "execution_count": 7,
   "metadata": {},
   "outputs": [
    {
     "data": {
      "text/plain": [
       "2"
      ]
     },
     "execution_count": 7,
     "metadata": {},
     "output_type": "execute_result"
    }
   ],
   "source": [
    "queue.pop()"
   ]
  },
  {
   "cell_type": "code",
   "execution_count": 8,
   "metadata": {},
   "outputs": [
    {
     "data": {
      "text/plain": [
       "deque([5, 4])"
      ]
     },
     "execution_count": 8,
     "metadata": {},
     "output_type": "execute_result"
    }
   ],
   "source": [
    "queue"
   ]
  },
  {
   "cell_type": "code",
   "execution_count": 11,
   "metadata": {},
   "outputs": [
    {
     "data": {
      "text/plain": [
       "120"
      ]
     },
     "execution_count": 11,
     "metadata": {},
     "output_type": "execute_result"
    }
   ],
   "source": [
    "# 재귀함수 예제 문제\n",
    "\n",
    "def factorial(n):\n",
    "    if n <= 1:\n",
    "        return 1\n",
    "    return n * factorial(n-1)\n",
    "\n",
    "factorial(5)"
   ]
  },
  {
   "cell_type": "code",
   "execution_count": 13,
   "metadata": {},
   "outputs": [
    {
     "data": {
      "text/plain": [
       "6"
      ]
     },
     "execution_count": 13,
     "metadata": {},
     "output_type": "execute_result"
    }
   ],
   "source": [
    "# 재귀함수 예제 문제\n",
    "\n",
    "# 최대공약수 계산\n",
    "# A > B 인 자연수 -> A를 B로 나눈 나머지 R과 B의 최대공약수는 A,B의 최대공약수와 same\n",
    "\n",
    "def gcd(a,b):\n",
    "    if a > b:\n",
    "        if a%b ==0:\n",
    "            return b\n",
    "        else:\n",
    "            return gcd(a%b,b)\n",
    "    elif a < b:\n",
    "        if b%a == 0:\n",
    "            return a\n",
    "        else:\n",
    "            return gcd(a,b%a)\n",
    "    else:\n",
    "        return a\n",
    "    \n",
    "gcd(192,162)\n",
    "\n",
    "\n",
    "\n",
    "### 모범 답안\n",
    "# A > B 라는 전제o + a==b를 따로 조건으로 뺄 필요x\n",
    "def gcd(a,b):\n",
    "    if a%b == 0:\n",
    "        return b\n",
    "    else:\n",
    "        return gcd(a%b,b)"
   ]
  },
  {
   "cell_type": "code",
   "execution_count": 28,
   "metadata": {},
   "outputs": [
    {
     "name": "stdout",
     "output_type": "stream",
     "text": [
      "1 2 7 6 8 3 4 5 "
     ]
    }
   ],
   "source": [
    "# 각 노드 연결정보\n",
    "# 작은 번호 node부터 출발해서, 작은 노드 순서대로 탐색한다 가정\n",
    "# \"1번 노드\"부터 존재 하지만 실제 index는 \"0\"번부터! 조심하기\n",
    "\n",
    "graph = [\n",
    "[],\n",
    "[2,3,8],\n",
    "[1,7],\n",
    "[1,4,5],\n",
    "[3,5],\n",
    "[3,4],\n",
    "[7],\n",
    "[2,6,8],\n",
    "[1,7]\n",
    "]\n",
    "\n",
    "len(graph)\n",
    "\n",
    "visited = [False] * len(graph)\n",
    "\n",
    "# 내 답안\n",
    "\n",
    "# def dfs(graph, start, visited):\n",
    "#     # 가장 처음 시작 방문처리 & stack에 넣기\n",
    "#     stack = []\n",
    "#     cur = start\n",
    "#     print(cur)\n",
    "#     visited[cur] = 1 # 방문처리\n",
    "#     stack.append(cur) # stack에 넣기\n",
    "\n",
    "#     # 인접노드 중 가장 작은 것 방문처리 & stack 넣기\n",
    "#     # 만약 인접노드 모두 방문? -> 해당 노드 stack에서 빼기\n",
    "#     # 이 과정 반복 & stack 다 비면 종료\n",
    "\n",
    "#     while len(stack) != 0: # stack 차있으면 반복\n",
    "#         candidates = graph[cur] # 인접노드들 불러오기\n",
    "#         for candidate in candidates:\n",
    "#             if visited[candidate] == 0:\n",
    "#                 cur = candidate\n",
    "#                 visited[cur] = 1\n",
    "#                 stack.append(cur)\n",
    "#                 dfs(graph, cur, visited)\n",
    "#             # else:\n",
    "#             #     cur = stack.pop()\n",
    "#             #     print(cur)\n",
    "#             #     dfs(graph, cur, visited)\n",
    "\n",
    "# start = 1\n",
    "# dfs(graph, start, visited)\n",
    "\n",
    "\n",
    "### 모범답안\n",
    "# Stack의 개념이 쓰이는거지, stack 자체를 만들어서 넣을 필요없음!\n",
    "\n",
    "def dfs(graph, v, visited):\n",
    "    visited[v] = True\n",
    "    print(v, end = ' ')\n",
    "    for i in graph[v]:\n",
    "        if not visited[i]:\n",
    "            dfs(graph, i, visited)\n",
    "\n",
    "\n",
    "dfs(graph, 1, visited)"
   ]
  },
  {
   "cell_type": "code",
   "execution_count": 32,
   "metadata": {},
   "outputs": [
    {
     "data": {
      "text/plain": [
       "deque([1, 2, 3, 4, 5])"
      ]
     },
     "execution_count": 32,
     "metadata": {},
     "output_type": "execute_result"
    }
   ],
   "source": [
    "from collections import deque\n",
    "\n",
    "queue = deque([1,2,3,4,5])\n",
    "queue"
   ]
  },
  {
   "cell_type": "code",
   "execution_count": 33,
   "metadata": {},
   "outputs": [
    {
     "name": "stdout",
     "output_type": "stream",
     "text": [
      "1 2 3 8 7 4 5 6 "
     ]
    }
   ],
   "source": [
    "# # 내 답안\n",
    "# def bfs(graph, v, visited):\n",
    "#     visited[v] = True\n",
    "#     print(v, end=' ')\n",
    "#     for i in graph[v]:\n",
    "#         if not visited[i]:\n",
    "#             visited[i] = True\n",
    "#             print(v, end=' ')\n",
    "\n",
    "# 모범 답안\n",
    "\n",
    "from collections import deque\n",
    "\n",
    "def bfs(graph, start, visited):\n",
    "    queue = deque([start])\n",
    "    visited[start] = True\n",
    "\n",
    "    while queue:\n",
    "        v = queue.popleft() # queue에 넣은 것 꺼내기\n",
    "        print(v, end=' ')\n",
    "        for i in graph[v]:\n",
    "            if not visited[i]:\n",
    "                queue.append(i)\n",
    "                visited[i] = True\n",
    "        \n",
    "\n",
    "visited = [False] * len(graph)\n",
    "bfs(graph, 1, visited)"
   ]
  },
  {
   "cell_type": "code",
   "execution_count": 13,
   "metadata": {},
   "outputs": [
    {
     "name": "stdout",
     "output_type": "stream",
     "text": [
      "3\n"
     ]
    }
   ],
   "source": [
    "# 음료수 얼려 먹기 문제 (Connected Component 찾기)\n",
    "\n",
    "# 내 답안\n",
    "# input\n",
    "# 4 5\n",
    "# 00110\n",
    "# 00011\n",
    "# 11111\n",
    "# 00000\n",
    "\n",
    "\n",
    "\n",
    "# N, M = list(map(int, input().split())) # N: row, M: col\n",
    "# ice = [[int(i) for i in input()] for _ in range(N)] # ice 자체가 2-D visited\n",
    "\n",
    "# cnt = 0 # 아이스크림 갯수\n",
    "\n",
    "# # (0,0)부터 시작해서 동일 row, column과 연결된 0 탐색\n",
    "# for i in range(N):\n",
    "#     for j in range(M):\n",
    "#         if ice[i][j] == 0:\n",
    "\n",
    "\n",
    "\n",
    "# # 더 연결안될 시, 아이스크림 수 +1\n",
    "\n",
    "# 못풀겠당.\n",
    "\n",
    "# 모범답안 (DFS, BFS 두가지로 모두 풀 수 있음)\n",
    "\n",
    "\n",
    "def dfs(x,y,N,M):\n",
    "    if x<= -1 or x>= N or y<=-1 or y>= M:\n",
    "        return False\n",
    "    if graph[x][y] == 0:\n",
    "        graph[x][y] = 1\n",
    "        dfs(x-1,y,N,M)\n",
    "        dfs(x,y-1,N,M)\n",
    "        dfs(x+1,y,N,M)\n",
    "        dfs(x,y+1,N,M)\n",
    "        return True\n",
    "    return False\n",
    "\n",
    "N, M = list(map(int, input().split())) # N: row, M: col\n",
    "graph = [list(map(int, input())) for _ in range(N)]\n",
    "\n",
    "cnt = 0\n",
    "for i in range(N):\n",
    "    for j in range(M):\n",
    "        if dfs(i,j,N,M) == True:\n",
    "            cnt +=1\n",
    "\n",
    "print(cnt)\n"
   ]
  },
  {
   "cell_type": "code",
   "execution_count": 14,
   "metadata": {},
   "outputs": [
    {
     "name": "stdout",
     "output_type": "stream",
     "text": [
      "10\n"
     ]
    }
   ],
   "source": [
    "# 미로탈출 문제\n",
    "\n",
    "# 모범답안\n",
    "\n",
    "# input\n",
    "# 5 6\n",
    "# 101010\n",
    "# 111111\n",
    "# 000001\n",
    "# 111111\n",
    "# 111111\n",
    "\n",
    "# 괴물이 없는 부분이 1 -> 1로만 이동 가능\n",
    "from collections import deque\n",
    "\n",
    "def bfs(x,y):\n",
    "    queue = deque()\n",
    "    queue.append((x,y))\n",
    "\n",
    "    while queue: # queue가 빌 때까지 반복\n",
    "        x, y = queue.popleft()\n",
    "        for i in range(4):\n",
    "            nx = x+dx[i]\n",
    "            ny = y+dy[i]\n",
    "\n",
    "            if nx <0 or nx >=n or ny <0 or ny >=m: # 범위 넘어가면 무시\n",
    "                continue\n",
    "            if graph[nx][ny] == 0: # 괴물 (벽) 인 경우 무시\n",
    "                continue\n",
    "            if graph[nx][ny] == 1: # 해당노드 처음 방문 -> 그때까지 거리로 변경해서 기록\n",
    "                graph[nx][ny] = graph[x][y] + 1\n",
    "                queue.append((nx,ny))\n",
    "                # 이미 한번 방문한 건 다시 방문x -> 최단거리 확보!\n",
    "    \n",
    "    return graph[n-1][m-1]\n",
    "\n",
    "\n",
    "\n",
    "n,m = list(map(int,input().split()))\n",
    "graph = [list(map(int, input())) for _ in range(n)]\n",
    "\n",
    "dx = [-1,1,0,0]\n",
    "dy = [0,0,-1,1]\n",
    "\n",
    "# BFS 기반으로 경로탐색 -> edge 길이 동일할 때, 최단거리 찾기\n",
    "print(bfs(0,0))\n",
    "\n"
   ]
  }
 ],
 "metadata": {
  "kernelspec": {
   "display_name": "jw",
   "language": "python",
   "name": "python3"
  },
  "language_info": {
   "codemirror_mode": {
    "name": "ipython",
    "version": 3
   },
   "file_extension": ".py",
   "mimetype": "text/x-python",
   "name": "python",
   "nbconvert_exporter": "python",
   "pygments_lexer": "ipython3",
   "version": "3.10.13"
  }
 },
 "nbformat": 4,
 "nbformat_minor": 2
}
